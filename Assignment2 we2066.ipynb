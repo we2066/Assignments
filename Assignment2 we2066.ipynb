{
  "nbformat": 4,
  "nbformat_minor": 0,
  "metadata": {
    "colab": {
      "name": "Assignment2",
      "provenance": [],
      "include_colab_link": true
    },
    "kernelspec": {
      "name": "python3",
      "display_name": "Python 3"
    },
    "language_info": {
      "name": "python"
    }
  },
  "cells": [
    {
      "cell_type": "markdown",
      "metadata": {
        "id": "view-in-github",
        "colab_type": "text"
      },
      "source": [
        "<a href=\"https://colab.research.google.com/github/we2066/NYUExperimentalPhysics1-2024/blob/main/Assignment2%20we2066.ipynb\" target=\"_parent\"><img src=\"https://colab.research.google.com/assets/colab-badge.svg\" alt=\"Open In Colab\"/></a>"
      ]
    },
    {
      "cell_type": "markdown",
      "metadata": {
        "id": "vAQZLh6lDagH"
      },
      "source": [
        "#[Introduction to Python for Science and Engineering](https://www.taylorfrancis.com/books/mono/10.1201/9780429506413/introduction-python-science-engineering-david-pine)\n",
        "\n",
        "###The following exercises correspond to chapter [3: Strings, Lists, Arrays, and Dictionaries](https://www.taylorfrancis.com/chapters/mono/10.1201/9780429506413-3/strings-lists-arrays-dictionaries-david-pine)\n",
        "\n",
        "[old manual (no library access required)](https://physics.nyu.edu/pine/pymanual/html/pymanMaster.html)\n",
        "[old link (no library access required)](https://physics.nyu.edu/pine/pymanual/html/chap3/chap3_arrays.html)"
      ]
    },
    {
      "cell_type": "code",
      "metadata": {
        "id": "9narVfFTwQ_M"
      },
      "source": [
        "##RUN THIS CODE BLOCK FIRST - it brings in functions like sin, cos, log, ...\n",
        "#in the future, we'll do things slightly differently to make your code more robust and portable...\n",
        "from numpy import *"
      ],
      "execution_count": 1,
      "outputs": []
    },
    {
      "cell_type": "markdown",
      "metadata": {
        "id": "0rvmyQYoDm92"
      },
      "source": [
        "##3.6.1\n",
        "\n",
        "Create an array of 9 evenly spaced numbers going from 0 to 29 (inclusive) and give it a variable name $r$. Find the square of each element of the array (as simply as possible). Find twice the value of each element of the array in two different ways: ($i$) using addition and ($ii$) using multiplication. Use the print command to display the results."
      ]
    },
    {
      "cell_type": "code",
      "metadata": {
        "id": "2wHebld2DMyV",
        "colab": {
          "base_uri": "https://localhost:8080/"
        },
        "outputId": "3ea3cbf9-46e5-46e5-9368-16884048a67e"
      },
      "source": [
        "##USE THIS CODE BLOCK TO COMPLETE EXERCISE 3.6.1##\n",
        "\n",
        "r = np.array([0, 4, 8, 12, 16, 20, 24, 28])\n",
        "print(r)\n",
        "\n",
        "print(sqrt(r))\n",
        "\n",
        "print(r+r)\n",
        "\n",
        "print(2*r)"
      ],
      "execution_count": 15,
      "outputs": [
        {
          "output_type": "stream",
          "name": "stdout",
          "text": [
            "[ 0  4  8 12 16 20 24 28]\n",
            "[0.         2.         2.82842712 3.46410162 4.         4.47213595\n",
            " 4.89897949 5.29150262]\n",
            "[ 0  8 16 24 32 40 48 56]\n",
            "[ 0  8 16 24 32 40 48 56]\n"
          ]
        }
      ]
    },
    {
      "cell_type": "code",
      "source": [],
      "metadata": {
        "id": "Vqyd0nkSmhFx"
      },
      "execution_count": null,
      "outputs": []
    },
    {
      "cell_type": "markdown",
      "metadata": {
        "id": "LvObVXDiEVeH"
      },
      "source": [
        "##3.6.2\n",
        "\n",
        "Create the following arrays:\n",
        "1. an array of 100 elements all equal to $e$, the base of the natural logarithm;\n",
        "1. an array in 1-degree increments of all the angles in degrees from 0 to 360 degrees;\n",
        "1. an array in 1-degree increments of all the angles in radians from 0 to 360 degrees;\n",
        "1. an array from 12 to 17, not including 17, in 0.2 increments;\n",
        "1. an array from 12 to 17, including 17, in 0.2 increments."
      ]
    },
    {
      "cell_type": "code",
      "metadata": {
        "id": "WNkLyTzHE2n9"
      },
      "source": [
        "##USE THIS CODE BLOCK TO COMPLETE EXERCISE 3.6.2##\n",
        "\n",
        "a = np.linspace(e, e, 100)\n",
        "\n",
        "b = np.linspace(0,360,361)\n",
        "\n",
        "c = (pi/180)* np.linspace(0,360,361)\n",
        "\n",
        "d = np.arange(12,17,0.2)\n",
        "\n",
        "f = np.arange(12,17.2,0.2)\n"
      ],
      "execution_count": 54,
      "outputs": []
    },
    {
      "cell_type": "markdown",
      "metadata": {
        "id": "wEGz-9j0E5LS"
      },
      "source": [
        "##3.6.3\n",
        "\n",
        "The position of a ball at time $t$ dropped with zero initial velocity from a height $h_0$ is given by\n",
        "\n",
        "$y = h_0 - \\frac{1}{2} gt^2$\n",
        "\n",
        "where $g=9.8$ m/s$^2$. Suppose $h_0 = 10$ m. Find the sequence of times when the ball passes each half meter assuming the ball is dropped at $t=0$. Hint: Create a NumPy array for $y$ that goes from 10 to 0 in increments of -0.5 using the `arange` fucntion. Solving the above equation for $t$, we find that\n",
        "\n",
        "$t = \\sqrt{\\frac{2\\left(h_0 -y\\right)}{g}}$\n",
        "\n",
        "Using this equation and the array you created, find the sequence of times when the ball passes each half meter. Your code should yield the following results for the $y$ and $t$ arrays:\n",
        "\n",
        "```\n",
        "In [2]: y\n",
        "Out[2]: array([10. , 9.5, 9. , 8.5, 8. , 7.5, 7. , 6.5,\n",
        "                6. , 5.5, 5. , 4.5, 4. , 3.5, 3. , 2.5,\n",
        "                2. , 1.5, 1. , 0.5])\n",
        "\n",
        "In [3]: t\n",
        "Out[3]: array([ 0.        , 0.31943828, 0.45175395,\n",
        "                0.55328334, 0.63887656, 0.71428571,\n",
        "                0.7824608 , 0.84515425, 0.9035079 ,\n",
        "                0.95831485, 1.01015254, 1.05945693,\n",
        "                1.10656667, 1.15175111, 1.19522861,\n",
        "                1.23717915, 1.27775313, 1.31707778,\n",
        "                1.35526185, 1.39239919])\n",
        "```\n"
      ]
    },
    {
      "cell_type": "code",
      "metadata": {
        "id": "r9_4-QanqImi",
        "colab": {
          "base_uri": "https://localhost:8080/"
        },
        "outputId": "4a3c5b70-9147-4a11-db96-4fd05294b4ef"
      },
      "source": [
        "##USE THIS CODE BLOCK TO COMPLETE EXERCISE 3.6.3##\n",
        "\n",
        "a = np.arange(10,0,-0.5)\n",
        "print(a)\n",
        "t = sqrt(((20)-(2*a))/9.8)\n",
        "print(t)"
      ],
      "execution_count": 64,
      "outputs": [
        {
          "output_type": "stream",
          "name": "stdout",
          "text": [
            "[10.   9.5  9.   8.5  8.   7.5  7.   6.5  6.   5.5  5.   4.5  4.   3.5\n",
            "  3.   2.5  2.   1.5  1.   0.5]\n",
            "[0.         0.31943828 0.45175395 0.55328334 0.63887656 0.71428571\n",
            " 0.7824608  0.84515425 0.9035079  0.95831485 1.01015254 1.05945693\n",
            " 1.10656667 1.15175111 1.19522861 1.23717915 1.27775313 1.31707778\n",
            " 1.35526185 1.39239919]\n"
          ]
        }
      ]
    },
    {
      "cell_type": "markdown",
      "metadata": {
        "id": "mydPPWNGqMLi"
      },
      "source": [
        "##3.6.4\n",
        "\n",
        "Recalling that the average velocity over an interval $\\Delta t$ is defined as $\\bar{v}=\\Delta y/ \\Delta t$, find the average velocity for each time interval in the previous problem using NumPy arrays. Keep in mind that the number of time intervals is one less than the number of times. Hint: What are the arrays `y[1:20]` and `y[0:19]`? What does the array `y[1:20]-y[0:19]` represent? (Try printing out the two arrays from the IPython shell.) Using this last array and a similar one involving time, find the array of average velocities. Bonus: Can you think of a more elegant way of representing `y[1:20]-y[0:19]` that does not make explicit reference to the number of elements in the `y` array--one that would work for any length array?\n",
        "\n",
        "You should get the following answer for the array of velocities:\n",
        "\n",
        "```\n",
        "In [5]: v\n",
        "Out[5]: array([-1.56524758,  -3.77884195,  -4.9246827 ,\n",
        "               -5.84158351,  -6.63049517,  -7.3340579 ,\n",
        "               -7.97531375,  -8.56844457,  -9.12293148,\n",
        "               -9.64549022,  -10.14108641, -10.61351563,\n",
        "               -11.06575711, -11.50020061, -11.91879801,\n",
        "               -12.32316816, -12.71467146, -13.09446421,\n",
        "               -13.46353913])\n",
        "```\n"
      ]
    },
    {
      "cell_type": "code",
      "metadata": {
        "id": "G9HA1ONprik6",
        "colab": {
          "base_uri": "https://localhost:8080/"
        },
        "outputId": "1f9aa281-3b69-4974-fd5d-efef82a07200"
      },
      "source": [
        "##USE THIS CODE BLOCK TO COMPLETE EXERCISE 3.6.4##\n",
        "\n",
        "a = np.arange(10,0,-0.5)\n",
        "h = a[1:20]- a[0:19]\n",
        "print(h)\n",
        "\n",
        "t = sqrt(((20)-(2*a))/9.8)\n",
        "i = t[1:20]- t[0:19]\n",
        "print(i)\n",
        "\n",
        "v = h/i\n",
        "print(v)"
      ],
      "execution_count": 84,
      "outputs": [
        {
          "output_type": "stream",
          "name": "stdout",
          "text": [
            "[-0.5 -0.5 -0.5 -0.5 -0.5 -0.5 -0.5 -0.5 -0.5 -0.5 -0.5 -0.5 -0.5 -0.5\n",
            " -0.5 -0.5 -0.5 -0.5 -0.5]\n",
            "[0.31943828 0.13231567 0.10152938 0.08559323 0.07540915 0.06817508\n",
            " 0.06269346 0.05835365 0.05480694 0.0518377  0.04930438 0.04710974\n",
            " 0.04518444 0.0434775  0.04195054 0.04057398 0.03932465 0.03818407\n",
            " 0.03713734]\n",
            "[ -1.56524758  -3.77884195  -4.9246827   -5.84158351  -6.63049517\n",
            "  -7.3340579   -7.97531375  -8.56844457  -9.12293148  -9.64549022\n",
            " -10.14108641 -10.61351563 -11.06575711 -11.50020061 -11.91879801\n",
            " -12.32316816 -12.71467146 -13.09446421 -13.46353913]\n"
          ]
        }
      ]
    }
  ]
}